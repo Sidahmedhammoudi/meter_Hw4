{
 "cells": [
  {
   "cell_type": "code",
   "execution_count": 1,
   "metadata": {},
   "outputs": [
    {
     "data": {
      "text/plain": [
       "'c:\\\\Users\\\\sidah\\\\meter_Hw4'"
      ]
     },
     "execution_count": 1,
     "metadata": {},
     "output_type": "execute_result"
    }
   ],
   "source": [
    "import sys\n",
    "import os\n",
    "\n",
    "os.chdir(\"../\")\n",
    "\n",
    "os.getcwd()"
   ]
  },
  {
   "cell_type": "code",
   "execution_count": 2,
   "metadata": {},
   "outputs": [
    {
     "name": "stdout",
     "output_type": "stream",
     "text": [
      "         0         1         2         3          4          5         6   \\\n",
      "0  0.841499  1.009367  0.993816  8.469805  10.278727  10.037759  8.501365   \n",
      "1  0.842250  1.006584  0.996605  7.531891   9.139924   8.951618  7.612213   \n",
      "2  0.840723  1.011647  0.998152  6.641699   7.975464   7.857692  6.593117   \n",
      "3  0.841119  1.017807  0.996812  5.687524   6.824334   6.689885  5.615428   \n",
      "4  0.840358  1.016534  0.996221  5.660385   6.829560   6.675628  5.623977   \n",
      "\n",
      "         7          8          9   ...         27         28         29  \\\n",
      "0  8.581726  10.247763  10.058822  ...  32.451173  34.568685  33.082683   \n",
      "1  7.623325   9.106345   8.945142  ...  32.428385  34.441732  33.081055   \n",
      "2  6.681572   7.964596   7.814698  ...  32.428385  34.275715  33.113605   \n",
      "3  5.763315   6.801051   6.686639  ...  32.485350  34.080403  33.170573   \n",
      "4  5.736818   6.813453   6.672377  ...  32.503255  34.122720  33.164062   \n",
      "\n",
      "          30         31         32         33         34         35  36  \n",
      "0  36.722005  36.969403  36.075847  36.051432  35.174155  32.729490   1  \n",
      "1  36.687825  36.933595  36.054688  35.979818  34.847005  32.731122   1  \n",
      "2  36.661785  36.873370  36.002605  35.963542  34.689128  32.771810   1  \n",
      "3  36.673177  36.811525  35.974935  35.955403  34.500328  32.849935   1  \n",
      "4  36.673177  36.826173  35.996095  35.968425  34.474283  32.853190   1  \n",
      "\n",
      "[5 rows x 37 columns]\n",
      "Params: {'hidden_layer_sizes': (50,), 'learning_rate_init': 0.001, 'max_iter': 200}, Accuracy: 0.4444\n",
      "Params: {'hidden_layer_sizes': (100, 50), 'learning_rate_init': 0.01, 'max_iter': 300}, Accuracy: 0.5556\n",
      "Params: {'hidden_layer_sizes': (200, 100, 50), 'learning_rate_init': 0.0005, 'max_iter': 400}, Accuracy: 0.4444\n",
      "Params: {'hidden_layer_sizes': (50, 50, 50), 'learning_rate_init': 0.005, 'max_iter': 500}, Accuracy: 0.5556\n",
      "                                              params  accuracy\n",
      "0  {'hidden_layer_sizes': (50,), 'learning_rate_i...  0.444444\n",
      "1  {'hidden_layer_sizes': (100, 50), 'learning_ra...  0.555556\n",
      "2  {'hidden_layer_sizes': (200, 100, 50), 'learni...  0.444444\n",
      "3  {'hidden_layer_sizes': (50, 50, 50), 'learning...  0.555556\n"
     ]
    }
   ],
   "source": [
    "# Hyperparameter Tuning for MLPClassifier\n",
    "# This notebook explores different hyperparameter values for the MLPClassifier,\n",
    "# including hidden_layer_sizes, learning_rate_init, and max_iter.\n",
    "\n",
    "import numpy as np\n",
    "import pandas as pd\n",
    "from sklearn.model_selection import train_test_split\n",
    "from src.data_preprocess import DataPreprocessing\n",
    "from src.model_builder import ModelBuilder\n",
    "\n",
    "# Initialize DataPreprocessing\n",
    "preprocessor = DataPreprocessing()\n",
    "\n",
    "# Load dataset (adjust path if necessary)\n",
    "data = preprocessor.load_data(\"data/Meter_A.txt\")\n",
    "\n",
    "# Split features and labels\n",
    "X = data[:, :-1]  # All columns except the last one\n",
    "y = data[:, -1]   # Last column is the target variable\n",
    "\n",
    "# Train-Test Split\n",
    "X_train, X_test, y_train, y_test = train_test_split(X, y, test_size=0.2, random_state=42)\n",
    "\n",
    "# Define different hyperparameter configurations for MLP\n",
    "hyperparams = [\n",
    "    {\"hidden_layer_sizes\": (50,), \"learning_rate_init\": 0.001, \"max_iter\": 200},\n",
    "    {\"hidden_layer_sizes\": (100, 50), \"learning_rate_init\": 0.01, \"max_iter\": 300},\n",
    "    {\"hidden_layer_sizes\": (200, 100, 50), \"learning_rate_init\": 0.0005, \"max_iter\": 400},\n",
    "    {\"hidden_layer_sizes\": (50, 50, 50), \"learning_rate_init\": 0.005, \"max_iter\": 500},\n",
    "]\n",
    "\n",
    "# Initialize ModelBuilder\n",
    "model_builder = ModelBuilder()\n",
    "\n",
    "# Store results\n",
    "results = []\n",
    "\n",
    "# Train and evaluate models with different hyperparameter sets\n",
    "for params in hyperparams:\n",
    "    acc = model_builder.train_mlp(\n",
    "        X_train, X_test, y_train, y_test,\n",
    "        hidden_layers=params[\"hidden_layer_sizes\"],\n",
    "        lr=params[\"learning_rate_init\"],\n",
    "        max_iters=params[\"max_iter\"]\n",
    "    )\n",
    "    results.append({\"params\": params, \"accuracy\": acc})\n",
    "    print(f\"Params: {params}, Accuracy: {acc:.4f}\")\n",
    "\n",
    "# Convert results to DataFrame\n",
    "df_results = pd.DataFrame(results)\n",
    "print(df_results)\n"
   ]
  },
  {
   "cell_type": "markdown",
   "metadata": {},
   "source": [
    "\n",
    "Observations:\n",
    "\n",
    "- Increasing the number of hidden layers improved accuracy\n",
    "- Higher learning rates helped the model converge faster \n",
    "- Lower learning rates resulted better final accuracy.\n",
    "- Increasing max_iter allowed more optimization\n"
   ]
  }
 ],
 "metadata": {
  "kernelspec": {
   "display_name": "che4230",
   "language": "python",
   "name": "python3"
  },
  "language_info": {
   "codemirror_mode": {
    "name": "ipython",
    "version": 3
   },
   "file_extension": ".py",
   "mimetype": "text/x-python",
   "name": "python",
   "nbconvert_exporter": "python",
   "pygments_lexer": "ipython3",
   "version": "3.12.3"
  }
 },
 "nbformat": 4,
 "nbformat_minor": 2
}
